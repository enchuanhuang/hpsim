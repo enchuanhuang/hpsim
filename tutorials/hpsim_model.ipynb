{
 "cells": [
  {
   "cell_type": "markdown",
   "id": "f216451b",
   "metadata": {},
   "source": [
    "# HPSim Model (Wrapper)\n",
    "HPSim can read from a configuration file that will create easy method to use."
   ]
  },
  {
   "cell_type": "code",
   "execution_count": 1,
   "id": "edf985a0",
   "metadata": {},
   "outputs": [],
   "source": [
    "import hpsim\n",
    "import yaml"
   ]
  },
  {
   "cell_type": "code",
   "execution_count": 2,
   "id": "62d09044",
   "metadata": {},
   "outputs": [],
   "source": [
    "with open(\"hpsim_model.yml\",\"r\") as file_object:\n",
    "    config=yaml.load(file_object,Loader=yaml.SafeLoader)"
   ]
  },
  {
   "cell_type": "code",
   "execution_count": 3,
   "id": "f532a3e4",
   "metadata": {},
   "outputs": [
    {
     "name": "stdout",
     "output_type": "stream",
     "text": [
      "basic\n",
      " GPU:1\n",
      " log_level:3\n",
      " debug_level:1\n",
      "beam\n",
      " num:262144\n",
      " mass:939.294\n",
      " charge:-1.0\n",
      " current:0.006\n",
      " alpha_x:0.095\n",
      " beta_x:47\n",
      " emittance_x:0.00327\n",
      " alpha_y:-0.102\n",
      " beta_y:60.0\n",
      " emittance_y:0.002514\n",
      " delta_phi:180\n",
      " synch_phi:0\n",
      " synch_w:0.75\n",
      " random_seed:0\n",
      "simulation\n",
      " SIM_START:TBDB01\n",
      " SIM_STOP:BLZ\n",
      "database\n",
      " db_dir:../db/\n",
      " tmpdir:../db/tmp/\n",
      " dbs:['tbtd.db', 'dtl.db', 'ccl.db']\n",
      "monitor\n",
      " devices:['QL', 'QM', 'QD', 'EM', 'AB', 'CM', 'DT', 'PM', 'WS']\n"
     ]
    }
   ],
   "source": [
    "for section, pairs in config.items():\n",
    "    print(section)\n",
    "    for key, val in pairs.items():\n",
    "        print(f\" {key}:{val}\")"
   ]
  },
  {
   "cell_type": "code",
   "execution_count": 4,
   "id": "8f42b8d7",
   "metadata": {},
   "outputs": [
    {
     "name": "stdout",
     "output_type": "stream",
     "text": [
      "/home/echuang/hpsim/db/lib\n",
      ": Debug level is set at 1\n",
      "\n",
      ": Logging level is set at kInfo\n",
      "\n",
      "main -> ../db/tmp/tbtd.db\n",
      "db1 -> ../db/tmp/dtl.db\n",
      "db2 -> ../db/tmp/ccl.db\n",
      "Beam frequency initialized to 201.25\n"
     ]
    }
   ],
   "source": [
    "model = hpsim.create_hpsim_model(config)"
   ]
  },
  {
   "cell_type": "markdown",
   "id": "989e2d92",
   "metadata": {},
   "source": [
    "## Easy change epics channel and get key results\n",
    "One can input new epics channel values in dictionary to `model.evaluate` and get useful information."
   ]
  },
  {
   "cell_type": "code",
   "execution_count": 5,
   "id": "51a45d61",
   "metadata": {},
   "outputs": [],
   "source": [
    "T1Amp = hpsim.get_db_epics(\"TDQL001V01\")\n",
    "result = model.evaluate({})"
   ]
  },
  {
   "cell_type": "code",
   "execution_count": 6,
   "id": "890f984c",
   "metadata": {},
   "outputs": [
    {
     "name": "stdout",
     "output_type": "stream",
     "text": [
      "{'mismatch': 20.091038818330354, 'cost': 10.748886202087402, 'ax': -0.18365517945198806, 'ay': -4.3323028081751715, 'bx': 0.023032087385549807, 'by': 0.038760520980377876, 'sig_ratio_diff': 0.5098532547288757, 'xsig': 0.19421204735812095, 'ysig': 0.19231709800278138, 'total_sig': 0.27332066428143414, 'dfbl':                     name         type      z_start        z_mid        z_end  \\\n",
      "model_index                                                                    \n",
      "0            spch_comp_1     SpchComp     0.000000     0.000000     0.000000   \n",
      "1                 TBDR01        Drift     0.000000     2.620000     5.240000   \n",
      "2               TBQL01V1         Quad     5.240000    10.350000    15.460000   \n",
      "3                 TBDR02        Drift    15.460000    18.307500    21.155000   \n",
      "4               TBQL01V2         Quad    21.155000    26.265000    31.375000   \n",
      "...                  ...          ...          ...          ...          ...   \n",
      "127            TDEM01COL  Diagnostics  1169.876509  1169.876509  1169.876509   \n",
      "128               TDDR14        Drift  1169.876509  1187.692509  1205.508509   \n",
      "129          spch_comp_7     SpchComp  1205.508509  1205.508509  1205.508509   \n",
      "130              01QM00U         Quad  1205.508509  1206.129259  1206.750009   \n",
      "131                  BLZ  Diagnostics  1206.750009  1206.750009  1206.750009   \n",
      "\n",
      "              length  monitor      xavg      xsig     xpavg  ...     yemit  \\\n",
      "model_index                                                  ...             \n",
      "0             0.0000    False       NaN       NaN       NaN  ...       NaN   \n",
      "1             5.2400    False       NaN       NaN       NaN  ...       NaN   \n",
      "2            10.2200     True       NaN       NaN       NaN  ...       NaN   \n",
      "3             5.6950    False       NaN       NaN       NaN  ...       NaN   \n",
      "4            10.2200     True       NaN       NaN       NaN  ...       NaN   \n",
      "...              ...      ...       ...       ...       ...  ...       ...   \n",
      "127           0.0000     True -0.001920  0.253069  0.018795  ...  0.029985   \n",
      "128          35.6320    False       NaN       NaN       NaN  ...       NaN   \n",
      "129           0.0000    False       NaN       NaN       NaN  ...       NaN   \n",
      "130           1.2415     True -0.001139  0.130896  0.045408  ...  0.030186   \n",
      "131           0.0000    False       NaN       NaN       NaN  ...       NaN   \n",
      "\n",
      "               phiavg     phisig     phiref     zemit      wavg      wsig  \\\n",
      "model_index                                                                 \n",
      "0                 NaN        NaN        NaN       NaN       NaN       NaN   \n",
      "1                 NaN        NaN        NaN       NaN       NaN       NaN   \n",
      "2                 NaN        NaN        NaN       NaN       NaN       NaN   \n",
      "3                 NaN        NaN        NaN       NaN       NaN       NaN   \n",
      "4                 NaN        NaN        NaN       NaN       NaN       NaN   \n",
      "...               ...        ...        ...       ...       ...       ...   \n",
      "127          7.064738  49.251946  43.343703  0.005901 -0.002883  0.007165   \n",
      "128               NaN        NaN        NaN       NaN       NaN       NaN   \n",
      "129               NaN        NaN        NaN       NaN       NaN       NaN   \n",
      "130          9.926514  47.719525  43.343703  0.006343 -0.002881  0.007619   \n",
      "131               NaN        NaN        NaN       NaN       NaN       NaN   \n",
      "\n",
      "                wref  loss_ratio  loss_local  \n",
      "model_index                                   \n",
      "0                NaN         NaN         NaN  \n",
      "1                NaN         NaN         NaN  \n",
      "2                NaN         NaN         NaN  \n",
      "3                NaN         NaN         NaN  \n",
      "4                NaN         NaN         NaN  \n",
      "...              ...         ...         ...  \n",
      "127          0.75649    0.027294        -6.0  \n",
      "128              NaN         NaN         NaN  \n",
      "129              NaN         NaN         NaN  \n",
      "130          0.75649    0.027294        -6.0  \n",
      "131              NaN         NaN         NaN  \n",
      "\n",
      "[132 rows x 26 columns], 'time': 1706722455.5763578, 'xavg_max': 0.003966693269723296, 'yavg_max': 0.0040576208852921, 'xavg_std': 0.0009870548856510716, 'yavg_std': 0.0009915783270736313, 'xpavg_max': 0.06487471360949756, 'ypavg_max': 0.050255630709620684, 'xpavg_std': 0.018512877425180405, 'ypavg_std': 0.016196822855522274}\n"
     ]
    }
   ],
   "source": [
    "print(result)"
   ]
  },
  {
   "cell_type": "code",
   "execution_count": 7,
   "id": "8b526a0c",
   "metadata": {},
   "outputs": [
    {
     "name": "stdout",
     "output_type": "stream",
     "text": [
      "['DELTA_PHI', 'GPU', 'SIM_START', 'SIM_STOP', '__class__', '__delattr__', '__dict__', '__dir__', '__doc__', '__eq__', '__format__', '__ge__', '__getattribute__', '__gt__', '__hash__', '__init__', '__init_subclass__', '__le__', '__lt__', '__module__', '__ne__', '__new__', '__reduce__', '__reduce_ex__', '__repr__', '__setattr__', '__sizeof__', '__str__', '__subclasshook__', '__weakref__', '_beam', '_bl', '_dbconn', '_dfbeam', '_dfbl', '_epics_channels', '_epics_values', '_plotdata', '_sim', '_spch', 'ax', 'ay', 'beam', 'bl', 'bx', 'by', 'charge', 'cost', 'current', 'db_dir', 'dbconn', 'dbs', 'dfbeam', 'dfbl', 'epics_channels', 'epics_values', 'evaluate', 'ex', 'ey', 'initialize', 'mass', 'mismatch', 'monitor_devices', 'num', 'par_dir', 'plot_standard', 'plotdata', 'pvnames', 'set_beam', 'set_db', 'set_monitor', 'set_sim_range', 'simulate', 'sync_w', 'tmpdir', 'transmission', 'update_epics_values']\n"
     ]
    }
   ],
   "source": [
    "print(dir(model))"
   ]
  },
  {
   "cell_type": "code",
   "execution_count": null,
   "id": "b928a39a",
   "metadata": {},
   "outputs": [],
   "source": []
  }
 ],
 "metadata": {
  "kernelspec": {
   "display_name": "Python 3 (ipykernel)",
   "language": "python",
   "name": "python3"
  },
  "language_info": {
   "codemirror_mode": {
    "name": "ipython",
    "version": 3
   },
   "file_extension": ".py",
   "mimetype": "text/x-python",
   "name": "python",
   "nbconvert_exporter": "python",
   "pygments_lexer": "ipython3",
   "version": "3.7.15"
  }
 },
 "nbformat": 4,
 "nbformat_minor": 5
}
