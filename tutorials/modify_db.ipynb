{
 "cells": [
  {
   "cell_type": "markdown",
   "id": "6bc39aca",
   "metadata": {},
   "source": [
    "# Modify digital-ccltmp.db\n",
    "\n",
    "This demo is used for changing some of the digital-ccltmp.db values."
   ]
  },
  {
   "cell_type": "code",
   "execution_count": 1,
   "id": "526ccad0",
   "metadata": {},
   "outputs": [
    {
     "name": "stdout",
     "output_type": "stream",
     "text": [
      "/home/echuang/hpsim /home/echuang/hpsim/pylib are included\n"
     ]
    }
   ],
   "source": [
    "import sys\n",
    "import os\n",
    "\n",
    "# define directory to packages and append to $PATH\n",
    "par_dir = os.path.abspath(os.path.pardir)\n",
    "#lib_dir = os.path.join(par_dir,\"bin\")\n",
    "#sys.path.append(lib_dir)\n",
    "pkg_dir = os.path.join(par_dir,\"pylib\")\n",
    "sys.path.append(pkg_dir)\n",
    "print(par_dir, pkg_dir, \"are included\")\n",
    "\n",
    "#import additional python packages\n",
    "import numpy as np\n",
    "import copy\n",
    "import matplotlib.pyplot as plt\n",
    "import matplotlib.mlab as mlab\n",
    "import math\n",
    "# import additional simulation packages\n",
    "import hpsim as hps\n",
    "from hpsim import lcsutil as lcs\n",
    "from hpsim import nputil as npu\n",
    "from hpsim import sqldb as pydb\n",
    "import shutil"
   ]
  },
  {
   "cell_type": "code",
   "execution_count": 2,
   "id": "54feacc4",
   "metadata": {},
   "outputs": [
    {
     "data": {
      "text/plain": [
       "'/home/echuang/hpsim/db/ccltmp.db'"
      ]
     },
     "execution_count": 2,
     "metadata": {},
     "output_type": "execute_result"
    }
   ],
   "source": [
    "db_dir = par_dir + '/db'\n",
    "lib_dir = par_dir + '/db/lib'\n",
    "# prepare a temporary file\n",
    "shutil.copy(db_dir + \"/ccl.db\", db_dir + \"/ccltmp.db\")"
   ]
  },
  {
   "cell_type": "code",
   "execution_count": 3,
   "id": "56d5db5f",
   "metadata": {},
   "outputs": [
    {
     "name": "stdout",
     "output_type": "stream",
     "text": [
      "main -> /home/echuang/hpsim/db/tmp/ccltmp.db\n",
      "*** dB connection established ***\n"
     ]
    }
   ],
   "source": [
    "#install db's and connect to beamline\n",
    "dbs = ['ccltmp.db'] #['tbtd-2022.db','digital-dtl-2022.db','trst.db','ccl.db']\n",
    "dbconn1 = hps.DBConnection(db_dir, dbs, lib_dir, 'libsqliteext.so')\n",
    "dbconn1.print_dbs()\n",
    "dbconn1.clear_model_index()\n",
    "print( \"*** dB connection established ***\")"
   ]
  },
  {
   "cell_type": "code",
   "execution_count": 4,
   "id": "c76cd689",
   "metadata": {},
   "outputs": [
    {
     "name": "stdout",
     "output_type": "stream",
     "text": [
      "*** Beamline created ***\n"
     ]
    }
   ],
   "source": [
    "#create beamline\n",
    "bl = hps.BeamLine()\n",
    "beamline = hps.get_element_list()\n",
    "print( \"*** Beamline created ***\")"
   ]
  },
  {
   "cell_type": "code",
   "execution_count": 5,
   "id": "ce1fe4f0",
   "metadata": {},
   "outputs": [
    {
     "name": "stdout",
     "output_type": "stream",
     "text": [
      "*** PySQLite Beamline created ***\n"
     ]
    }
   ],
   "source": [
    "#create table of beamline elements at lengths\n",
    "pybl = pydb.Db_bl(db_dir, dbs)\n",
    "py_beamline = pybl.get_bl_elem_len()\n",
    "print( \"*** PySQLite Beamline created ***\")"
   ]
  },
  {
   "cell_type": "markdown",
   "id": "a73b54e7",
   "metadata": {},
   "source": [
    "## Below is where the db is adjusted"
   ]
  },
  {
   "cell_type": "code",
   "execution_count": 6,
   "id": "9fa7b1e7",
   "metadata": {},
   "outputs": [
    {
     "name": "stdout",
     "output_type": "stream",
     "text": [
      "25KS001E02  :  100.0\n",
      "25LN amplitude_scale_cal  :  5.13231098\n",
      "25LN operating_amplitude_fraction_tmp  :  1.00000000058712\n"
     ]
    }
   ],
   "source": [
    "# get model value\n",
    "module = 25\n",
    "smodule = str(module).zfill(2)\n",
    "\n",
    "dbPvName = \"25KS001E02\"\n",
    "dbVal = hps.get_db_epics(dbPvName)\n",
    "print(dbPvName, \" : \", dbVal)\n",
    "\n",
    "dbElemName = smodule + \"LN\"\n",
    "dbFieldName = \"amplitude_scale_cal\"\n",
    "dbVal = hps.get_db_model(dbElemName, dbFieldName)\n",
    "print(dbElemName, dbFieldName, \" : \", dbVal)\n",
    "\n",
    "dbElemName = smodule + \"LN\"\n",
    "dbFieldName = \"operating_amplitude_fraction_tmp\"\n",
    "dbVal = hps.get_db_model(dbElemName, dbFieldName)\n",
    "print(dbElemName, dbFieldName, \" : \", dbVal)"
   ]
  },
  {
   "cell_type": "code",
   "execution_count": 7,
   "id": "69f2b664",
   "metadata": {},
   "outputs": [
    {
     "name": "stdout",
     "output_type": "stream",
     "text": [
      "25KS001E02  :  98.0 98.0\n",
      "25LN operating_amplitude_fraction_tmp  :  0.989682117614504\n",
      "25LN amplitude_scale_cal  :  5.13231098\n"
     ]
    }
   ],
   "source": [
    "# change value\n",
    "pvVal = 98.\n",
    "hps.set_db_epics(dbPvName, pvVal)\n",
    "dbVal = hps.get_db_epics(dbPvName)\n",
    "print(dbPvName, \" : \", pvVal, dbVal)\n",
    "#\n",
    "\n",
    "dbElemName = smodule + \"LN\"\n",
    "dbFieldName = \"operating_amplitude_fraction_tmp\"\n",
    "dbVal = hps.get_db_model(dbElemName, dbFieldName)\n",
    "print(dbElemName, dbFieldName, \" : \", dbVal)\n",
    "\n",
    "\n",
    "dbElemName = smodule + \"LN\"\n",
    "dbFieldName = \"amplitude_scale_cal\"\n",
    "dbVal = hps.get_db_model(dbElemName, dbFieldName)\n",
    "print(dbElemName, dbFieldName, \" : \", dbVal)\n",
    "#\n",
    "\n"
   ]
  },
  {
   "cell_type": "code",
   "execution_count": null,
   "id": "100cf4cd",
   "metadata": {},
   "outputs": [],
   "source": []
  }
 ],
 "metadata": {
  "jupytext": {
   "cell_metadata_filter": "-all",
   "executable": "/usr/bin/env python",
   "main_language": "python",
   "notebook_metadata_filter": "-all"
  },
  "kernelspec": {
   "display_name": "Python 3 (ipykernel)",
   "language": "python",
   "name": "python3"
  },
  "language_info": {
   "codemirror_mode": {
    "name": "ipython",
    "version": 3
   },
   "file_extension": ".py",
   "mimetype": "text/x-python",
   "name": "python",
   "nbconvert_exporter": "python",
   "pygments_lexer": "ipython3",
   "version": "3.7.15"
  }
 },
 "nbformat": 4,
 "nbformat_minor": 5
}
